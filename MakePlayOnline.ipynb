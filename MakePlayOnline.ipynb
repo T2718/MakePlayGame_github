{
  "nbformat": 4,
  "nbformat_minor": 0,
  "metadata": {
    "colab": {
      "private_outputs": true,
      "provenance": [],
      "authorship_tag": "ABX9TyPvb1o6GU+qRrFFU6jK2Bey",
      "include_colab_link": true
    },
    "kernelspec": {
      "name": "python3",
      "display_name": "Python 3"
    },
    "language_info": {
      "name": "python"
    }
  },
  "cells": [
    {
      "cell_type": "markdown",
      "metadata": {
        "id": "view-in-github",
        "colab_type": "text"
      },
      "source": [
        "<a href=\"https://colab.research.google.com/github/T2718/MakePlayGame_github/blob/main/MakePlayOnline.ipynb\" target=\"_parent\"><img src=\"https://colab.research.google.com/assets/colab-badge.svg\" alt=\"Open In Colab\"/></a>"
      ]
    },
    {
      "cell_type": "code",
      "source": [
        "from google.colab import drive\n",
        "drive.mount('/content/drive')"
      ],
      "metadata": {
        "id": "U4-Q3ypleXOD"
      },
      "execution_count": null,
      "outputs": []
    },
    {
      "cell_type": "code",
      "execution_count": null,
      "metadata": {
        "id": "1YsVxr3Fc53Z"
      },
      "outputs": [],
      "source": [
        "!pip install flask flask_socketio flask_ngrok pyngrok\n",
        "!ngrok authtoken 2nN6g69lE7nmJKkivHx1YEzhCd5_6efoZazYt1VnPHbZjkpsU\n",
        "\n",
        "\n",
        "\n",
        "from flask_ngrok import run_with_ngrok\n",
        "from flask import Flask, render_template, session, request, url_for, redirect, send_from_directory\n",
        "from flask_socketio import SocketIO, emit, join_room, leave_room, close_room, rooms, disconnect\n",
        "from pyngrok import ngrok\n",
        "\n",
        "\n",
        "\n",
        "app = Flask(__name__)\n",
        "app.config['SQLALCHEMY_DATABASE_URI'] = 'sqlite:///mpginw.db'\n",
        "app.config['SQLALCHEMY_TRACK_MODIFICATIONS'] = False\n",
        "app.config['SECRET_KEY'] = 'Gamma'\n",
        "socketio = SocketIO(app)\n",
        "#run_with_ngrok(app)\n",
        "\n",
        "\n",
        "public_url = ngrok.connect(5000)\n",
        "print(f\"Public URL: {public_url}\")\n",
        "@app.route('/')\n",
        "def index():\n",
        "  #return render_template('index.html',created_date='2024/10/3/10/30')\n",
        "  return render_template('bullet.html',created_date='2024/10/3/10/30')\n",
        "\n",
        "@app.route('/login')\n",
        "def login():\n",
        "  return render_template('login.html')\n",
        "\n",
        "@app.route('/taiko')\n",
        "def taiko():\n",
        "  return render_template('taiko.html')\n",
        "\n",
        "@app.route('/test')\n",
        "def test():\n",
        "  return render_template('test.html')\n",
        "\n",
        "@app.route('/Connect/sign',methods=['POST'])\n",
        "def sign():\n",
        "  return render_template('sign.html')\n",
        "\n",
        "@app.route('/bullet')\n",
        "def bullet():\n",
        "  return render_template('bullet.html')\n",
        "\n",
        "@socketio.on('cs_signal')\n",
        "def signal(data):\n",
        "  socketio.emit('sc_signal',data)\n",
        "\n",
        "@socketio.on('shoot')\n",
        "def handle_shoot(bullet):\n",
        "  socketio.emit('new_bullet', bullet)\n",
        "\n",
        "\n",
        "socketio.run(app,host=\"0.0.0.0\", port=\"5000\",allow_unsafe_werkzeug=True)\n",
        "#socketio.run(app,allow_unsafe_werkzeug=True)"
      ]
    },
    {
      "cell_type": "code",
      "source": [
        "!sudo ss -lptn 'sport = :8080'"
      ],
      "metadata": {
        "id": "ZhJYcLpbi9G-"
      },
      "execution_count": null,
      "outputs": []
    }
  ]
}